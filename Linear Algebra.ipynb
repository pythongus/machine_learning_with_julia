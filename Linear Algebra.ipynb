{
 "cells": [
  {
   "cell_type": "code",
   "execution_count": 1,
   "metadata": {},
   "outputs": [
    {
     "data": {
      "text/plain": [
       "#3 (generic function with 1 method)"
      ]
     },
     "execution_count": 1,
     "metadata": {},
     "output_type": "execute_result"
    }
   ],
   "source": [
    "f1 = y -> y ^ 3"
   ]
  },
  {
   "cell_type": "code",
   "execution_count": 2,
   "metadata": {},
   "outputs": [
    {
     "data": {
      "text/plain": [
       "27"
      ]
     },
     "execution_count": 2,
     "metadata": {},
     "output_type": "execute_result"
    }
   ],
   "source": [
    "f1(3)"
   ]
  },
  {
   "cell_type": "code",
   "execution_count": 3,
   "metadata": {},
   "outputs": [],
   "source": [
    "using Test"
   ]
  },
  {
   "cell_type": "code",
   "execution_count": 4,
   "metadata": {},
   "outputs": [
    {
     "data": {
      "text/plain": [
       "Test.Pass"
      ]
     },
     "execution_count": 4,
     "metadata": {},
     "output_type": "execute_result"
    }
   ],
   "source": [
    "Test.Pass"
   ]
  },
  {
   "cell_type": "code",
   "execution_count": 6,
   "metadata": {},
   "outputs": [
    {
     "data": {
      "text/plain": [
       "testOne (generic function with 1 method)"
      ]
     },
     "execution_count": 6,
     "metadata": {},
     "output_type": "execute_result"
    }
   ],
   "source": [
    "testOne(x, y) = (\n",
    "    Test.Pass\n",
    "\n",
    ")\n",
    "     "
   ]
  },
  {
   "cell_type": "code",
   "execution_count": 7,
   "metadata": {},
   "outputs": [
    {
     "data": {
      "text/plain": [
       "Dict{Symbol,Int64} with 1 entry:\n",
       "  :a => 1"
      ]
     },
     "execution_count": 7,
     "metadata": {},
     "output_type": "execute_result"
    }
   ],
   "source": [
    "dict = Dict(:a => 1)"
   ]
  },
  {
   "cell_type": "code",
   "execution_count": 8,
   "metadata": {},
   "outputs": [
    {
     "data": {
      "text/plain": [
       "Dict{Symbol,Int64} with 1 entry:\n",
       "  :a => 1"
      ]
     },
     "execution_count": 8,
     "metadata": {},
     "output_type": "execute_result"
    }
   ],
   "source": [
    "dict"
   ]
  },
  {
   "cell_type": "code",
   "execution_count": 11,
   "metadata": {},
   "outputs": [
    {
     "data": {
      "text/plain": [
       "1"
      ]
     },
     "execution_count": 11,
     "metadata": {},
     "output_type": "execute_result"
    }
   ],
   "source": [
    "dict[:a]"
   ]
  },
  {
   "cell_type": "code",
   "execution_count": 12,
   "metadata": {},
   "outputs": [
    {
     "data": {
      "text/plain": [
       "1×2 Array{Int64,2}:\n",
       " 3  3"
      ]
     },
     "execution_count": 12,
     "metadata": {},
     "output_type": "execute_result"
    }
   ],
   "source": [
    "m1 = [1 1; 2 2]; m2 = [3 3]"
   ]
  },
  {
   "cell_type": "code",
   "execution_count": 22,
   "metadata": {},
   "outputs": [
    {
     "data": {
      "text/plain": [
       "2×1 Array{Int64,2}:\n",
       "  6\n",
       " 12"
      ]
     },
     "execution_count": 22,
     "metadata": {},
     "output_type": "execute_result"
    }
   ],
   "source": [
    "m1 * transpose(m2)"
   ]
  },
  {
   "cell_type": "code",
   "execution_count": 23,
   "metadata": {},
   "outputs": [
    {
     "data": {
      "text/plain": [
       "1×2 Array{Int64,2}:\n",
       " 9  9"
      ]
     },
     "execution_count": 23,
     "metadata": {},
     "output_type": "execute_result"
    }
   ],
   "source": [
    "m2 * m1"
   ]
  },
  {
   "cell_type": "code",
   "execution_count": 24,
   "metadata": {},
   "outputs": [
    {
     "data": {
      "text/plain": [
       "2×2 Array{Int64,2}:\n",
       " 1  0\n",
       " 0  1"
      ]
     },
     "execution_count": 24,
     "metadata": {},
     "output_type": "execute_result"
    }
   ],
   "source": [
    "m3 = [1 0; 0 1]"
   ]
  },
  {
   "cell_type": "code",
   "execution_count": 25,
   "metadata": {},
   "outputs": [
    {
     "data": {
      "text/plain": [
       "2×2 Array{Float64,2}:\n",
       " 1.0  0.0\n",
       " 0.0  1.0"
      ]
     },
     "execution_count": 25,
     "metadata": {},
     "output_type": "execute_result"
    }
   ],
   "source": [
    "inv(m3)"
   ]
  },
  {
   "cell_type": "markdown",
   "metadata": {},
   "source": [
    "m1 * m3"
   ]
  },
  {
   "cell_type": "code",
   "execution_count": 27,
   "metadata": {},
   "outputs": [
    {
     "data": {
      "text/plain": [
       "2×2 Array{Int64,2}:\n",
       " 2  1\n",
       " 2  3"
      ]
     },
     "execution_count": 27,
     "metadata": {},
     "output_type": "execute_result"
    }
   ],
   "source": [
    "m1 + m3"
   ]
  },
  {
   "cell_type": "code",
   "execution_count": 28,
   "metadata": {},
   "outputs": [
    {
     "data": {
      "text/plain": [
       "2×2 Array{Int64,2}:\n",
       " 3  3\n",
       " 6  6"
      ]
     },
     "execution_count": 28,
     "metadata": {},
     "output_type": "execute_result"
    }
   ],
   "source": [
    "3 * m1"
   ]
  },
  {
   "cell_type": "code",
   "execution_count": 29,
   "metadata": {},
   "outputs": [
    {
     "data": {
      "text/plain": [
       "2×2 Array{Int64,2}:\n",
       " 3  3\n",
       " 6  6"
      ]
     },
     "execution_count": 29,
     "metadata": {},
     "output_type": "execute_result"
    }
   ],
   "source": [
    "m1 * 3"
   ]
  },
  {
   "cell_type": "code",
   "execution_count": 30,
   "metadata": {},
   "outputs": [
    {
     "data": {
      "text/plain": [
       "2×2 Array{Int64,2}:\n",
       " 1  4\n",
       " 5  3"
      ]
     },
     "execution_count": 30,
     "metadata": {},
     "output_type": "execute_result"
    }
   ],
   "source": [
    "m4 = [1 4; 5 3]"
   ]
  },
  {
   "cell_type": "code",
   "execution_count": 32,
   "metadata": {},
   "outputs": [
    {
     "data": {
      "text/plain": [
       "2×2 Array{Float64,2}:\n",
       " -0.176471   0.235294 \n",
       "  0.294118  -0.0588235"
      ]
     },
     "execution_count": 32,
     "metadata": {},
     "output_type": "execute_result"
    }
   ],
   "source": [
    "m4i = inv(m4)"
   ]
  },
  {
   "cell_type": "code",
   "execution_count": 33,
   "metadata": {},
   "outputs": [
    {
     "data": {
      "text/plain": [
       "2×2 Array{Float64,2}:\n",
       "  1.0          0.0\n",
       " -2.22045e-16  1.0"
      ]
     },
     "execution_count": 33,
     "metadata": {},
     "output_type": "execute_result"
    }
   ],
   "source": [
    "m4 * m4i"
   ]
  },
  {
   "cell_type": "code",
   "execution_count": 34,
   "metadata": {},
   "outputs": [
    {
     "data": {
      "text/plain": [
       "2×2 Array{Float64,2}:\n",
       " 1.0  -1.11022e-16\n",
       " 0.0   1.0        "
      ]
     },
     "execution_count": 34,
     "metadata": {},
     "output_type": "execute_result"
    }
   ],
   "source": [
    "m4i * m4"
   ]
  },
  {
   "cell_type": "code",
   "execution_count": 36,
   "metadata": {},
   "outputs": [
    {
     "data": {
      "text/plain": [
       "2×2 Array{Float64,2}:\n",
       " -0.176471   0.235294 \n",
       "  0.294118  -0.0588235"
      ]
     },
     "execution_count": 36,
     "metadata": {},
     "output_type": "execute_result"
    }
   ],
   "source": [
    "m4i * m3"
   ]
  },
  {
   "cell_type": "code",
   "execution_count": 37,
   "metadata": {},
   "outputs": [
    {
     "data": {
      "text/plain": [
       "2×2 Array{Float64,2}:\n",
       " -0.176471   0.235294 \n",
       "  0.294118  -0.0588235"
      ]
     },
     "execution_count": 37,
     "metadata": {},
     "output_type": "execute_result"
    }
   ],
   "source": [
    "m4i"
   ]
  },
  {
   "cell_type": "code",
   "execution_count": 39,
   "metadata": {},
   "outputs": [
    {
     "data": {
      "text/plain": [
       "2×2 Array{Float64,2}:\n",
       " 1.0  -2.22045e-16\n",
       " 0.0   1.0        "
      ]
     },
     "execution_count": 39,
     "metadata": {},
     "output_type": "execute_result"
    }
   ],
   "source": [
    "m4 ^ 2 * m4i ^ 2"
   ]
  },
  {
   "cell_type": "code",
   "execution_count": 40,
   "metadata": {},
   "outputs": [
    {
     "data": {
      "text/plain": [
       "1:100"
      ]
     },
     "execution_count": 40,
     "metadata": {},
     "output_type": "execute_result"
    }
   ],
   "source": [
    "1:100"
   ]
  },
  {
   "cell_type": "code",
   "execution_count": 52,
   "metadata": {},
   "outputs": [
    {
     "data": {
      "text/plain": [
       "3×100 LinearAlgebra.Transpose{Int64,Array{Int64,2}}:\n",
       " 1  2  3  4  5  6  7  8  9  10  11  …  92  93  94  95  96  97  98  99  100\n",
       " 1  2  3  4  5  6  7  8  9  10  11     92  93  94  95  96  97  98  99  100\n",
       " 1  2  3  4  5  6  7  8  9  10  11     92  93  94  95  96  97  98  99  100"
      ]
     },
     "execution_count": 52,
     "metadata": {},
     "output_type": "execute_result"
    }
   ],
   "source": [
    "m6 = transpose([1:100 1:100 1:100])"
   ]
  },
  {
   "cell_type": "code",
   "execution_count": 42,
   "metadata": {},
   "outputs": [
    {
     "data": {
      "text/plain": [
       "200-element Array{Int64,1}:\n",
       "   1\n",
       "   2\n",
       "   3\n",
       "   4\n",
       "   5\n",
       "   6\n",
       "   7\n",
       "   8\n",
       "   9\n",
       "  10\n",
       "  11\n",
       "  12\n",
       "  13\n",
       "   ⋮\n",
       "  89\n",
       "  90\n",
       "  91\n",
       "  92\n",
       "  93\n",
       "  94\n",
       "  95\n",
       "  96\n",
       "  97\n",
       "  98\n",
       "  99\n",
       " 100"
      ]
     },
     "execution_count": 42,
     "metadata": {},
     "output_type": "execute_result"
    }
   ],
   "source": [
    "m6"
   ]
  },
  {
   "cell_type": "code",
   "execution_count": 93,
   "metadata": {},
   "outputs": [
    {
     "data": {
      "text/plain": [
       "10000-element Array{Int64,1}:\n",
       "     1\n",
       "     2\n",
       "     3\n",
       "     4\n",
       "     5\n",
       "     6\n",
       "     7\n",
       "     8\n",
       "     9\n",
       "    10\n",
       "    11\n",
       "    12\n",
       "    13\n",
       "     ⋮\n",
       "  9989\n",
       "  9990\n",
       "  9991\n",
       "  9992\n",
       "  9993\n",
       "  9994\n",
       "  9995\n",
       "  9996\n",
       "  9997\n",
       "  9998\n",
       "  9999\n",
       " 10000"
      ]
     },
     "execution_count": 93,
     "metadata": {},
     "output_type": "execute_result"
    }
   ],
   "source": [
    "a = [1:10_000;]"
   ]
  },
  {
   "cell_type": "code",
   "execution_count": 96,
   "metadata": {},
   "outputs": [
    {
     "data": {
      "text/plain": [
       "100×100 Array{Int64,2}:\n",
       "   1  101  201  301  401  501  601  …  9401  9501  9601  9701  9801   9901\n",
       "   2  102  202  302  402  502  602     9402  9502  9602  9702  9802   9902\n",
       "   3  103  203  303  403  503  603     9403  9503  9603  9703  9803   9903\n",
       "   4  104  204  304  404  504  604     9404  9504  9604  9704  9804   9904\n",
       "   5  105  205  305  405  505  605     9405  9505  9605  9705  9805   9905\n",
       "   6  106  206  306  406  506  606  …  9406  9506  9606  9706  9806   9906\n",
       "   7  107  207  307  407  507  607     9407  9507  9607  9707  9807   9907\n",
       "   8  108  208  308  408  508  608     9408  9508  9608  9708  9808   9908\n",
       "   9  109  209  309  409  509  609     9409  9509  9609  9709  9809   9909\n",
       "  10  110  210  310  410  510  610     9410  9510  9610  9710  9810   9910\n",
       "  11  111  211  311  411  511  611  …  9411  9511  9611  9711  9811   9911\n",
       "  12  112  212  312  412  512  612     9412  9512  9612  9712  9812   9912\n",
       "  13  113  213  313  413  513  613     9413  9513  9613  9713  9813   9913\n",
       "   ⋮                        ⋮       ⋱           ⋮                         \n",
       "  89  189  289  389  489  589  689     9489  9589  9689  9789  9889   9989\n",
       "  90  190  290  390  490  590  690     9490  9590  9690  9790  9890   9990\n",
       "  91  191  291  391  491  591  691  …  9491  9591  9691  9791  9891   9991\n",
       "  92  192  292  392  492  592  692     9492  9592  9692  9792  9892   9992\n",
       "  93  193  293  393  493  593  693     9493  9593  9693  9793  9893   9993\n",
       "  94  194  294  394  494  594  694     9494  9594  9694  9794  9894   9994\n",
       "  95  195  295  395  495  595  695     9495  9595  9695  9795  9895   9995\n",
       "  96  196  296  396  496  596  696  …  9496  9596  9696  9796  9896   9996\n",
       "  97  197  297  397  497  597  697     9497  9597  9697  9797  9897   9997\n",
       "  98  198  298  398  498  598  698     9498  9598  9698  9798  9898   9998\n",
       "  99  199  299  399  499  599  699     9499  9599  9699  9799  9899   9999\n",
       " 100  200  300  400  500  600  700     9500  9600  9700  9800  9900  10000"
      ]
     },
     "execution_count": 96,
     "metadata": {},
     "output_type": "execute_result"
    }
   ],
   "source": [
    "b = reshape(a, 100, 100)"
   ]
  },
  {
   "cell_type": "code",
   "execution_count": 97,
   "metadata": {},
   "outputs": [
    {
     "data": {
      "text/plain": [
       "100×100 Array{Int64,2}:\n",
       "   1  101  201  301  401  501  601  …  9401  9501  9601  9701  9801   9901\n",
       "   2  102  202  302  402  502  602     9402  9502  9602  9702  9802   9902\n",
       "   3  103  203  303  403  503  603     9403  9503  9603  9703  9803   9903\n",
       "   4  104  204  304  404  504  604     9404  9504  9604  9704  9804   9904\n",
       "   5  105  205  305  405  505  605     9405  9505  9605  9705  9805   9905\n",
       "   6  106  206  306  406  506  606  …  9406  9506  9606  9706  9806   9906\n",
       "   7  107  207  307  407  507  607     9407  9507  9607  9707  9807   9907\n",
       "   8  108  208  308  408  508  608     9408  9508  9608  9708  9808   9908\n",
       "   9  109  209  309  409  509  609     9409  9509  9609  9709  9809   9909\n",
       "  10  110  210  310  410  510  610     9410  9510  9610  9710  9810   9910\n",
       "  11  111  211  311  411  511  611  …  9411  9511  9611  9711  9811   9911\n",
       "  12  112  212  312  412  512  612     9412  9512  9612  9712  9812   9912\n",
       "  13  113  213  313  413  513  613     9413  9513  9613  9713  9813   9913\n",
       "   ⋮                        ⋮       ⋱           ⋮                         \n",
       "  89  189  289  389  489  589  689     9489  9589  9689  9789  9889   9989\n",
       "  90  190  290  390  490  590  690     9490  9590  9690  9790  9890   9990\n",
       "  91  191  291  391  491  591  691  …  9491  9591  9691  9791  9891   9991\n",
       "  92  192  292  392  492  592  692     9492  9592  9692  9792  9892   9992\n",
       "  93  193  293  393  493  593  693     9493  9593  9693  9793  9893   9993\n",
       "  94  194  294  394  494  594  694     9494  9594  9694  9794  9894   9994\n",
       "  95  195  295  395  495  595  695     9495  9595  9695  9795  9895   9995\n",
       "  96  196  296  396  496  596  696  …  9496  9596  9696  9796  9896   9996\n",
       "  97  197  297  397  497  597  697     9497  9597  9697  9797  9897   9997\n",
       "  98  198  298  398  498  598  698     9498  9598  9698  9798  9898   9998\n",
       "  99  199  299  399  499  599  699     9499  9599  9699  9799  9899   9999\n",
       " 100  200  300  400  500  600  700     9500  9600  9700  9800  9900  10000"
      ]
     },
     "execution_count": 97,
     "metadata": {},
     "output_type": "execute_result"
    }
   ],
   "source": [
    "b"
   ]
  },
  {
   "cell_type": "code",
   "execution_count": 102,
   "metadata": {},
   "outputs": [
    {
     "data": {
      "text/plain": [
       "100×100 Array{Int64,2}:\n",
       " 33335050  82845050  132355050  …  4835805050  4885315050  4934825050\n",
       " 33340100  82860100  132380100     4836780100  4886300100  4935820100\n",
       " 33345150  82875150  132405150     4837755150  4887285150  4936815150\n",
       " 33350200  82890200  132430200     4838730200  4888270200  4937810200\n",
       " 33355250  82905250  132455250     4839705250  4889255250  4938805250\n",
       " 33360300  82920300  132480300  …  4840680300  4890240300  4939800300\n",
       " 33365350  82935350  132505350     4841655350  4891225350  4940795350\n",
       " 33370400  82950400  132530400     4842630400  4892210400  4941790400\n",
       " 33375450  82965450  132555450     4843605450  4893195450  4942785450\n",
       " 33380500  82980500  132580500     4844580500  4894180500  4943780500\n",
       " 33385550  82995550  132605550  …  4845555550  4895165550  4944775550\n",
       " 33390600  83010600  132630600     4846530600  4896150600  4945770600\n",
       " 33395650  83025650  132655650     4847505650  4897135650  4946765650\n",
       "        ⋮                       ⋱                                    \n",
       " 33779450  84169450  134559450     4921609450  4971999450  5022389450\n",
       " 33784500  84184500  134584500     4922584500  4972984500  5023384500\n",
       " 33789550  84199550  134609550  …  4923559550  4973969550  5024379550\n",
       " 33794600  84214600  134634600     4924534600  4974954600  5025374600\n",
       " 33799650  84229650  134659650     4925509650  4975939650  5026369650\n",
       " 33804700  84244700  134684700     4926484700  4976924700  5027364700\n",
       " 33809750  84259750  134709750     4927459750  4977909750  5028359750\n",
       " 33814800  84274800  134734800  …  4928434800  4978894800  5029354800\n",
       " 33819850  84289850  134759850     4929409850  4979879850  5030349850\n",
       " 33824900  84304900  134784900     4930384900  4980864900  5031344900\n",
       " 33829950  84319950  134809950     4931359950  4981849950  5032339950\n",
       " 33835000  84335000  134835000     4932335000  4982835000  5033335000"
      ]
     },
     "execution_count": 102,
     "metadata": {},
     "output_type": "execute_result"
    }
   ],
   "source": [
    "b ^ 2"
   ]
  },
  {
   "cell_type": "code",
   "execution_count": 106,
   "metadata": {},
   "outputs": [],
   "source": [
    "using LinearAlgebra"
   ]
  },
  {
   "cell_type": "code",
   "execution_count": 108,
   "metadata": {},
   "outputs": [
    {
     "data": {
      "text/plain": [
       "5×5 Array{Float64,2}:\n",
       " 1.0  0.0  0.0  0.0  0.0\n",
       " 0.0  1.0  0.0  0.0  0.0\n",
       " 0.0  0.0  1.0  0.0  0.0\n",
       " 0.0  0.0  0.0  1.0  0.0\n",
       " 0.0  0.0  0.0  0.0  1.0"
      ]
     },
     "execution_count": 108,
     "metadata": {},
     "output_type": "execute_result"
    }
   ],
   "source": [
    "Matrix{Float64}(I, 5, 5)"
   ]
  },
  {
   "cell_type": "code",
   "execution_count": 109,
   "metadata": {},
   "outputs": [],
   "source": [
    "using LinearAlgebra"
   ]
  },
  {
   "cell_type": "code",
   "execution_count": 113,
   "metadata": {},
   "outputs": [
    {
     "data": {
      "text/plain": [
       "eye (generic function with 1 method)"
      ]
     },
     "execution_count": 113,
     "metadata": {},
     "output_type": "execute_result"
    }
   ],
   "source": [
    "eye() = (\n",
    "    Matrix{Float64}(I, 5, 5)\n",
    ")"
   ]
  },
  {
   "cell_type": "code",
   "execution_count": 111,
   "metadata": {},
   "outputs": [
    {
     "data": {
      "text/plain": [
       "5×5 Array{Float64,2}:\n",
       " 1.0  0.0  0.0  0.0  0.0\n",
       " 0.0  1.0  0.0  0.0  0.0\n",
       " 0.0  0.0  1.0  0.0  0.0\n",
       " 0.0  0.0  0.0  1.0  0.0\n",
       " 0.0  0.0  0.0  0.0  1.0"
      ]
     },
     "execution_count": 111,
     "metadata": {},
     "output_type": "execute_result"
    }
   ],
   "source": [
    "eye()"
   ]
  },
  {
   "cell_type": "code",
   "execution_count": null,
   "metadata": {},
   "outputs": [],
   "source": []
  }
 ],
 "metadata": {
  "kernelspec": {
   "display_name": "Julia 1.1.1",
   "language": "julia",
   "name": "julia-1.1"
  },
  "language_info": {
   "file_extension": ".jl",
   "mimetype": "application/julia",
   "name": "julia",
   "version": "1.1.1"
  }
 },
 "nbformat": 4,
 "nbformat_minor": 2
}
