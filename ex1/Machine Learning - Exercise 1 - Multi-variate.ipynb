{
 "cells": [
  {
   "cell_type": "markdown",
   "metadata": {},
   "source": [
    "# Machine Learning Online Class - Exercise 1: Linear Regression"
   ]
  },
  {
   "cell_type": "markdown",
   "metadata": {},
   "source": [
    "## Part B: Multi-variate"
   ]
  },
  {
   "cell_type": "markdown",
   "metadata": {},
   "source": [
    "## Instructions"
   ]
  },
  {
   "cell_type": "markdown",
   "metadata": {},
   "source": [
    "This notebook contains code that helps you get started on the\n",
    "linear exercise. You will need to complete the following functions\n",
    "in this exericse:"
   ]
  },
  {
   "cell_type": "markdown",
   "metadata": {},
   "source": [
    "> <strike>warmUpExercise.jl</strike>  \n",
    "> <strike>plotData.jl</strike>  \n",
    "> <strike>gradientDescent.jl</strike>  \n",
    "> <strike>gradientDescent.jl</strike>  \n",
    "> <strike>computeCost.jl</strike>  \n",
    "> gradientDescentMulti.jl  \n",
    "> computeCostMulti.jl  \n",
    "> featureNormalize.jl  \n",
    "> normalEqn.jl"
   ]
  },
  {
   "cell_type": "markdown",
   "metadata": {},
   "source": [
    "## Feature Normalization"
   ]
  },
  {
   "cell_type": "markdown",
   "metadata": {},
   "source": [
    "The algorithm is as follows:"
   ]
  },
  {
   "cell_type": "markdown",
   "metadata": {},
   "source": [
    "1. Subtract each values by the feature mean  \n",
    "1. Divide the result by the feature standard deviation (scale)"
   ]
  },
  {
   "cell_type": "markdown",
   "metadata": {},
   "source": [
    "### Load Data"
   ]
  },
  {
   "cell_type": "code",
   "execution_count": 1,
   "metadata": {},
   "outputs": [],
   "source": [
    "using CSV"
   ]
  },
  {
   "cell_type": "code",
   "execution_count": 2,
   "metadata": {},
   "outputs": [
    {
     "data": {
      "text/html": [
       "<table class=\"data-frame\"><thead><tr><th></th><th>Size</th><th>NumberOfBedrooms</th><th>Price</th></tr><tr><th></th><th>Int64</th><th>Int64</th><th>Int64</th></tr></thead><tbody><p>5 rows × 3 columns</p><tr><th>1</th><td>2104</td><td>3</td><td>399900</td></tr><tr><th>2</th><td>1600</td><td>3</td><td>329900</td></tr><tr><th>3</th><td>2400</td><td>3</td><td>369000</td></tr><tr><th>4</th><td>1416</td><td>2</td><td>232000</td></tr><tr><th>5</th><td>3000</td><td>4</td><td>539900</td></tr></tbody></table>"
      ],
      "text/latex": [
       "\\begin{tabular}{r|ccc}\n",
       "\t& Size & NumberOfBedrooms & Price\\\\\n",
       "\t\\hline\n",
       "\t& Int64 & Int64 & Int64\\\\\n",
       "\t\\hline\n",
       "\t1 & 2104 & 3 & 399900 \\\\\n",
       "\t2 & 1600 & 3 & 329900 \\\\\n",
       "\t3 & 2400 & 3 & 369000 \\\\\n",
       "\t4 & 1416 & 2 & 232000 \\\\\n",
       "\t5 & 3000 & 4 & 539900 \\\\\n",
       "\\end{tabular}\n"
      ],
      "text/plain": [
       "5×3 DataFrames.DataFrame\n",
       "│ Row │ Size  │ NumberOfBedrooms │ Price  │\n",
       "│     │ \u001b[90mInt64\u001b[39m │ \u001b[90mInt64\u001b[39m            │ \u001b[90mInt64\u001b[39m  │\n",
       "├─────┼───────┼──────────────────┼────────┤\n",
       "│ 1   │ 2104  │ 3                │ 399900 │\n",
       "│ 2   │ 1600  │ 3                │ 329900 │\n",
       "│ 3   │ 2400  │ 3                │ 369000 │\n",
       "│ 4   │ 1416  │ 2                │ 232000 │\n",
       "│ 5   │ 3000  │ 4                │ 539900 │"
      ]
     },
     "execution_count": 2,
     "metadata": {},
     "output_type": "execute_result"
    }
   ],
   "source": [
    "data = CSV.read(\"ex1data2.txt\", header=[:Size, :NumberOfBedrooms, :Price], datarow=1);\n",
    "first(data, 5)"
   ]
  },
  {
   "cell_type": "markdown",
   "metadata": {},
   "source": [
    "### Separating Predictors And Outcomes"
   ]
  },
  {
   "cell_type": "code",
   "execution_count": 3,
   "metadata": {},
   "outputs": [],
   "source": [
    "X = data[:, 1:2];\n",
    "y = data[:, 3];"
   ]
  },
  {
   "cell_type": "markdown",
   "metadata": {},
   "source": [
    "Normalizing X"
   ]
  },
  {
   "cell_type": "code",
   "execution_count": 4,
   "metadata": {},
   "outputs": [],
   "source": [
    "include(\"featureNormalize.jl\");"
   ]
  },
  {
   "cell_type": "code",
   "execution_count": 10,
   "metadata": {},
   "outputs": [
    {
     "data": {
      "text/plain": [
       "([0.13001 -0.223675; -0.50419 -0.223675; … ; -0.18709 1.09042; -1.00375 -0.223675], [2000.68, 3.17021], [794.702, 0.760982])"
      ]
     },
     "execution_count": 10,
     "metadata": {},
     "output_type": "execute_result"
    }
   ],
   "source": [
    "using Main.FeatureUtils: featureNormalize \n",
    "\n",
    "Xnorm, mu, sigma = featureNormalize(X)"
   ]
  },
  {
   "cell_type": "markdown",
   "metadata": {},
   "source": [
    "Testing the output"
   ]
  },
  {
   "cell_type": "code",
   "execution_count": 11,
   "metadata": {},
   "outputs": [],
   "source": [
    "using Test\n",
    "using Statistics"
   ]
  },
  {
   "cell_type": "code",
   "execution_count": 12,
   "metadata": {},
   "outputs": [],
   "source": [
    "for index in 1:size(Xnorm[1], 2)\n",
    "    @test round(mean(Xnorm[:, index])) == 0;\n",
    "    @test round(std(Xnorm[:, index]), sigdigits=10) == 1;\n",
    "end"
   ]
  },
  {
   "cell_type": "markdown",
   "metadata": {},
   "source": [
    "Saving the number of observations or samples"
   ]
  },
  {
   "cell_type": "code",
   "execution_count": 101,
   "metadata": {},
   "outputs": [],
   "source": [
    "m = size(Xnorm, 1);"
   ]
  },
  {
   "cell_type": "markdown",
   "metadata": {},
   "source": [
    "Adding the intercept term on X"
   ]
  },
  {
   "cell_type": "code",
   "execution_count": 99,
   "metadata": {},
   "outputs": [],
   "source": [
    "using DataFrames\n",
    "intercept = DataFrame(Intercept=ones(m))\n",
    "Xdf = DataFrame(NumBedrooms=Xnorm[:, 1], Price=Xnorm[:, 2])\n",
    "Xdata = hcat(intercept, Xdf);"
   ]
  },
  {
   "cell_type": "code",
   "execution_count": 100,
   "metadata": {},
   "outputs": [
    {
     "data": {
      "text/html": [
       "<table class=\"data-frame\"><thead><tr><th></th><th>Intercept</th><th>NumBedrooms</th><th>Price</th></tr><tr><th></th><th>Float64</th><th>Float64</th><th>Float64</th></tr></thead><tbody><p>5 rows × 3 columns</p><tr><th>1</th><td>1.0</td><td>0.13001</td><td>-0.223675</td></tr><tr><th>2</th><td>1.0</td><td>-0.50419</td><td>-0.223675</td></tr><tr><th>3</th><td>1.0</td><td>0.502476</td><td>-0.223675</td></tr><tr><th>4</th><td>1.0</td><td>-0.735723</td><td>-1.53777</td></tr><tr><th>5</th><td>1.0</td><td>1.25748</td><td>1.09042</td></tr></tbody></table>"
      ],
      "text/latex": [
       "\\begin{tabular}{r|ccc}\n",
       "\t& Intercept & NumBedrooms & Price\\\\\n",
       "\t\\hline\n",
       "\t& Float64 & Float64 & Float64\\\\\n",
       "\t\\hline\n",
       "\t1 & 1.0 & 0.13001 & -0.223675 \\\\\n",
       "\t2 & 1.0 & -0.50419 & -0.223675 \\\\\n",
       "\t3 & 1.0 & 0.502476 & -0.223675 \\\\\n",
       "\t4 & 1.0 & -0.735723 & -1.53777 \\\\\n",
       "\t5 & 1.0 & 1.25748 & 1.09042 \\\\\n",
       "\\end{tabular}\n"
      ],
      "text/plain": [
       "5×3 DataFrame\n",
       "│ Row │ Intercept │ NumBedrooms │ Price     │\n",
       "│     │ \u001b[90mFloat64\u001b[39m   │ \u001b[90mFloat64\u001b[39m     │ \u001b[90mFloat64\u001b[39m   │\n",
       "├─────┼───────────┼─────────────┼───────────┤\n",
       "│ 1   │ 1.0       │ 0.13001     │ -0.223675 │\n",
       "│ 2   │ 1.0       │ -0.50419    │ -0.223675 │\n",
       "│ 3   │ 1.0       │ 0.502476    │ -0.223675 │\n",
       "│ 4   │ 1.0       │ -0.735723   │ -1.53777  │\n",
       "│ 5   │ 1.0       │ 1.25748     │ 1.09042   │"
      ]
     },
     "execution_count": 100,
     "metadata": {},
     "output_type": "execute_result"
    }
   ],
   "source": [
    "first(Xdata, 5)"
   ]
  },
  {
   "cell_type": "code",
   "execution_count": null,
   "metadata": {},
   "outputs": [],
   "source": []
  }
 ],
 "metadata": {
  "kernelspec": {
   "display_name": "Julia 1.1.1",
   "language": "julia",
   "name": "julia-1.1"
  },
  "language_info": {
   "file_extension": ".jl",
   "mimetype": "application/julia",
   "name": "julia",
   "version": "1.1.1"
  }
 },
 "nbformat": 4,
 "nbformat_minor": 2
}
