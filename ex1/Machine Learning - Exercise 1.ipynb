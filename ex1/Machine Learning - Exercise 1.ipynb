{
 "cells": [
  {
   "cell_type": "markdown",
   "metadata": {},
   "source": [
    "# Machine Learning Online Class - Exercise 1: Linear Regression"
   ]
  },
  {
   "cell_type": "markdown",
   "metadata": {},
   "source": [
    "## Instructions"
   ]
  },
  {
   "cell_type": "markdown",
   "metadata": {},
   "source": [
    "This file contains code that helps you get started on the\n",
    "linear exercise. You will need to complete the following functions\n",
    "in this exericse:"
   ]
  },
  {
   "cell_type": "markdown",
   "metadata": {},
   "source": [
    "> warmUpExercise.jl  \n",
    "> plotData.jl  \n",
    "> gradientDescent.jl  \n",
    "> computeCost.jl  \n",
    "> gradientDescentMulti.jl  \n",
    "> computeCostMulti.jl  \n",
    "> featureNormalize.jl  \n",
    "> normalEqn.jl"
   ]
  },
  {
   "cell_type": "markdown",
   "metadata": {},
   "source": [
    "For this exercise, you will not need to change any code in this file,\n",
    "or any other files other than those mentioned above."
   ]
  },
  {
   "cell_type": "markdown",
   "metadata": {},
   "source": [
    "> x refers to the population size in 10,000s  \n",
    "> y refers to the profit in $10,000s"
   ]
  },
  {
   "cell_type": "markdown",
   "metadata": {},
   "source": [
    "## Initialization"
   ]
  },
  {
   "cell_type": "markdown",
   "metadata": {},
   "source": [
    "### Part 1: Basic Function"
   ]
  },
  {
   "cell_type": "markdown",
   "metadata": {},
   "source": [
    "Complete warmUpExercise.jl"
   ]
  },
  {
   "cell_type": "code",
   "execution_count": 1,
   "metadata": {},
   "outputs": [
    {
     "data": {
      "text/plain": [
       "Main.Ex1"
      ]
     },
     "execution_count": 1,
     "metadata": {},
     "output_type": "execute_result"
    }
   ],
   "source": [
    "include(\"ex1a.jl\")"
   ]
  },
  {
   "cell_type": "code",
   "execution_count": 2,
   "metadata": {},
   "outputs": [
    {
     "name": "stdout",
     "output_type": "stream",
     "text": [
      "Running warmUpExercise ...\n",
      "5x5 Identity Matrix:\n"
     ]
    },
    {
     "data": {
      "text/plain": [
       "5×5 Array{Float64,2}:\n",
       " 1.0  0.0  0.0  0.0  0.0\n",
       " 0.0  1.0  0.0  0.0  0.0\n",
       " 0.0  0.0  1.0  0.0  0.0\n",
       " 0.0  0.0  0.0  1.0  0.0\n",
       " 0.0  0.0  0.0  0.0  1.0"
      ]
     },
     "execution_count": 2,
     "metadata": {},
     "output_type": "execute_result"
    }
   ],
   "source": [
    "println(\"Running warmUpExercise ...\");\n",
    "println(\"5x5 Identity Matrix:\");\n",
    "Ex1.warmUpExercise()"
   ]
  },
  {
   "cell_type": "markdown",
   "metadata": {},
   "source": [
    "## Part 2: Plotting"
   ]
  },
  {
   "cell_type": "markdown",
   "metadata": {},
   "source": [
    "Plotting Data ..."
   ]
  },
  {
   "cell_type": "code",
   "execution_count": 3,
   "metadata": {},
   "outputs": [],
   "source": [
    "# data = load('ex1data1.txt');\n",
    "data = [5 4;3 4;0 1;4 3];\n",
    "X = data[:, 1]; y = data[:, 2];\n",
    "m = length(y); # number of training examples"
   ]
  },
  {
   "cell_type": "code",
   "execution_count": 8,
   "metadata": {},
   "outputs": [
    {
     "data": {
      "text/plain": [
       "plotData (generic function with 1 method)"
      ]
     },
     "execution_count": 8,
     "metadata": {},
     "output_type": "execute_result"
    }
   ],
   "source": [
    "include(\"plotData.jl\")"
   ]
  },
  {
   "cell_type": "code",
   "execution_count": 9,
   "metadata": {},
   "outputs": [
    {
     "data": {
      "image/png": "[encoded data removed]",
      "text/plain": [
       "Figure(PyObject <Figure size 640x480 with 1 Axes>)"
      ]
     },
     "metadata": {},
     "output_type": "display_data"
    }
   ],
   "source": [
    "# Plot Data\n",
    "# Note: You have to complete the code in plotData.jl\n",
    "plotData(X, y);"
   ]
  },
  {
   "cell_type": "markdown",
   "metadata": {},
   "source": [
    "Continue..."
   ]
  },
  {
   "cell_type": "markdown",
   "metadata": {},
   "source": [
    "## Part 3: Cost and Gradient descent"
   ]
  },
  {
   "cell_type": "markdown",
   "metadata": {},
   "source": [
    "X = [ones(m, 1), data(:,1)]; % Add a column of ones to x\n",
    "theta = zeros(2, 1); % initialize fitting parameters\n",
    "theta = [0 ; 1];\n",
    "% Some gradient descent settings\n",
    "iterations = 1500;\n",
    "alpha = 0.01;\n",
    "\n",
    "fprintf('\\nTesting the cost function ...\\n')\n",
    "% compute and display initial cost\n",
    "J = computeCost(X, y, theta);\n",
    "fprintf('With theta = [0 ; 0]\\nCost computed = %f\\n', J);\n",
    "fprintf('Expected cost value (approx) 32.07\\n');\n",
    "\n",
    "% further testing of the cost function\n",
    "J = computeCost(X, y, [-1 ; 2]);\n",
    "fprintf('\\nWith theta = [-1 ; 2]\\nCost computed = %f\\n', J);\n",
    "fprintf('Expected cost value (approx) 54.24\\n');\n",
    "\n",
    "fprintf('Program paused. Press enter to continue.\\n');\n",
    "pause;\n",
    "\n",
    "fprintf('\\nRunning Gradient Descent ...\\n')\n",
    "% run gradient descent\n",
    "theta = gradientDescent(X, y, theta, alpha, iterations);\n",
    "\n",
    "% print theta to screen\n",
    "fprintf('Theta found by gradient descent:\\n');\n",
    "fprintf('%f\\n', theta);\n",
    "fprintf('Expected theta values (approx)\\n');\n",
    "fprintf(' -3.6303\\n  1.1664\\n\\n');\n",
    "\n",
    "% Plot the linear fit\n",
    "hold on; % keep previous plot visible\n",
    "plot(X(:,2), X*theta, '-')\n",
    "legend('Training data', 'Linear regression')\n",
    "hold off % don't overlay any more plots on this figure\n",
    "\n",
    "% Predict values for population sizes of 35,000 and 70,000\n",
    "predict1 = [1, 3.5] *theta;\n",
    "fprintf('For population = 35,000, we predict a profit of %f\\n',...\n",
    "    predict1*10000);\n",
    "predict2 = [1, 7] * theta;\n",
    "fprintf('For population = 70,000, we predict a profit of %f\\n',...\n",
    "    predict2*10000);\n",
    "\n",
    "fprintf('Program paused. Press enter to continue.\\n');\n",
    "pause;\n",
    "\n",
    "%% ============= Part 4: Visualizing J(theta_0, theta_1) =============\n",
    "fprintf('Visualizing J(theta_0, theta_1) ...\\n')\n",
    "\n",
    "% Grid over which we will calculate J\n",
    "theta0_vals = linspace(-10, 10, 100);\n",
    "theta1_vals = linspace(-1, 4, 100);\n",
    "\n",
    "% initialize J_vals to a matrix of 0's\n",
    "J_vals = zeros(length(theta0_vals), length(theta1_vals));\n",
    "\n",
    "% Fill out J_vals\n",
    "for i = 1:length(theta0_vals)\n",
    "    for j = 1:length(theta1_vals)\n",
    "\t  t = [theta0_vals(i); theta1_vals(j)];\n",
    "\t  J_vals(i,j) = computeCost(X, y, t);\n",
    "    end\n",
    "end\n",
    "\n",
    "\n",
    "% Because of the way meshgrids work in the surf command, we need to\n",
    "% transpose J_vals before calling surf, or else the axes will be flipped\n",
    "J_vals = J_vals';\n",
    "% Surface plot\n",
    "figure;\n",
    "surf(theta0_vals, theta1_vals, J_vals)\n",
    "xlabel('\\theta_0'); ylabel('\\theta_1');\n",
    "\n",
    "% Contour plot\n",
    "figure;\n",
    "% Plot J_vals as 15 contours spaced logarithmically between 0.01 and 100\n",
    "contour(theta0_vals, theta1_vals, J_vals, logspace(-2, 3, 20))\n",
    "xlabel('\\theta_0'); ylabel('\\theta_1');\n",
    "hold on;\n",
    "plot(theta(1), theta(2), 'rx', 'MarkerSize', 10, 'LineWidth', 2);"
   ]
  },
  {
   "cell_type": "code",
   "execution_count": null,
   "metadata": {},
   "outputs": [],
   "source": []
  }
 ],
 "metadata": {
  "kernelspec": {
   "display_name": "Julia 1.1.1",
   "language": "julia",
   "name": "julia-1.1"
  },
  "language_info": {
   "file_extension": ".jl",
   "mimetype": "application/julia",
   "name": "julia",
   "version": "1.1.1"
  }
 },
 "nbformat": 4,
 "nbformat_minor": 2
}
